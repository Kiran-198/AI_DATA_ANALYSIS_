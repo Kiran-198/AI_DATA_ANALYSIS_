{
 "cells": [
  {
   "cell_type": "code",
   "execution_count": 1,
   "metadata": {},
   "outputs": [
    {
     "name": "stdout",
     "output_type": "stream",
     "text": [
      "Feature Names: ['sepal length (cm)', 'sepal width (cm)', 'petal length (cm)', 'petal width (cm)']\n",
      "\n",
      "Mean of each feature:\n",
      "[5.84333333 3.05733333 3.758      1.19933333]\n",
      "\n",
      "Median of each feature:\n",
      "[5.8  3.   4.35 1.3 ]\n",
      "\n",
      "Standard Deviation of each feature:\n",
      "[0.82530129 0.43441097 1.75940407 0.75969263]\n"
     ]
    }
   ],
   "source": [
    "# Title: Basic NumPy Operations\n",
    "# Description: Perform basic operations such as calculating the mean of the dataset.\n",
    "# Basic NumPy Operations\n",
    "\n",
    "# Import required libraries\n",
    "import numpy as np\n",
    "from sklearn.datasets import load_iris\n",
    "\n",
    "# Load the Iris dataset\n",
    "iris = load_iris()\n",
    "data = iris.data  # Extract only the features\n",
    "\n",
    "# Calculate basic statistics using NumPy\n",
    "mean_values = np.mean(data, axis=0)\n",
    "median_values = np.median(data, axis=0)\n",
    "std_dev_values = np.std(data, axis=0)\n",
    "\n",
    "# Display the results\n",
    "print(\"Feature Names:\", iris.feature_names)\n",
    "print(\"\\nMean of each feature:\")\n",
    "print(mean_values)\n",
    "\n",
    "print(\"\\nMedian of each feature:\")\n",
    "print(median_values)\n",
    "\n",
    "print(\"\\nStandard Deviation of each feature:\")\n",
    "print(std_dev_values)\n"
   ]
  }
 ],
 "metadata": {
  "kernelspec": {
   "display_name": "Python 3",
   "language": "python",
   "name": "python3"
  },
  "language_info": {
   "codemirror_mode": {
    "name": "ipython",
    "version": 3
   },
   "file_extension": ".py",
   "mimetype": "text/x-python",
   "name": "python",
   "nbconvert_exporter": "python",
   "pygments_lexer": "ipython3",
   "version": "3.10.12"
  }
 },
 "nbformat": 4,
 "nbformat_minor": 2
}
