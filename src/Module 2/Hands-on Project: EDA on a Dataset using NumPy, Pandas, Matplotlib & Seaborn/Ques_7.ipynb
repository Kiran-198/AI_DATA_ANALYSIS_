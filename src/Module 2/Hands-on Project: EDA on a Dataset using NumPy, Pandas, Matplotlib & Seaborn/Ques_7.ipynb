{
 "cells": [
  {
   "cell_type": "code",
   "execution_count": 1,
   "metadata": {},
   "outputs": [
    {
     "name": "stdout",
     "output_type": "stream",
     "text": [
      "Average of each feature grouped by species:\n",
      "            sepal length (cm)  sepal width (cm)  petal length (cm)  \\\n",
      "species                                                              \n",
      "setosa                  5.006             3.428              1.462   \n",
      "versicolor              5.936             2.770              4.260   \n",
      "virginica               6.588             2.974              5.552   \n",
      "\n",
      "            petal width (cm)  \n",
      "species                       \n",
      "setosa                 0.246  \n",
      "versicolor             1.326  \n",
      "virginica              2.026  \n"
     ]
    }
   ],
   "source": [
    "# Title: Group and Aggregate Data\n",
    "# Description: Group the dataset by species (target) and compute the average of each feature.\n",
    "# Group and Aggregate Data\n",
    "\n",
    "# Import required libraries\n",
    "import pandas as pd\n",
    "from sklearn.datasets import load_iris\n",
    "\n",
    "# Load the Iris dataset\n",
    "iris = load_iris()\n",
    "\n",
    "# Convert to DataFrame\n",
    "iris_df = pd.DataFrame(data=iris.data, columns=iris.feature_names)\n",
    "\n",
    "# Add species names\n",
    "iris_df['species'] = pd.Series(iris.target).map(dict(enumerate(iris.target_names)))\n",
    "\n",
    "# Group by species and calculate the mean of each feature\n",
    "grouped_mean = iris_df.groupby('species').mean()\n",
    "\n",
    "# Display the result\n",
    "print(\"Average of each feature grouped by species:\")\n",
    "print(grouped_mean)\n"
   ]
  }
 ],
 "metadata": {
  "kernelspec": {
   "display_name": "Python 3",
   "language": "python",
   "name": "python3"
  },
  "language_info": {
   "codemirror_mode": {
    "name": "ipython",
    "version": 3
   },
   "file_extension": ".py",
   "mimetype": "text/x-python",
   "name": "python",
   "nbconvert_exporter": "python",
   "pygments_lexer": "ipython3",
   "version": "3.10.12"
  }
 },
 "nbformat": 4,
 "nbformat_minor": 2
}
