{
 "cells": [
  {
   "cell_type": "code",
   "execution_count": 1,
   "metadata": {},
   "outputs": [
    {
     "name": "stdout",
     "output_type": "stream",
     "text": [
      "Iris dataset with new column:\n",
      "   sepal length (cm)  sepal width (cm)  petal length (cm)  petal width (cm)  \\\n",
      "0                5.1               3.5                1.4               0.2   \n",
      "1                4.9               3.0                1.4               0.2   \n",
      "2                4.7               3.2                1.3               0.2   \n",
      "3                4.6               3.1                1.5               0.2   \n",
      "4                5.0               3.6                1.4               0.2   \n",
      "\n",
      "   target species  petal_length_to_width_ratio  \n",
      "0       0  setosa                          7.0  \n",
      "1       0  setosa                          7.0  \n",
      "2       0  setosa                          6.5  \n",
      "3       0  setosa                          7.5  \n",
      "4       0  setosa                          7.0  \n"
     ]
    }
   ],
   "source": [
    "# Title: Data Manipulation with Pandas\n",
    "# Description: Add a new column that calculates the ratio of petal length to petal width.\n",
    "# Data Manipulation with Pandas\n",
    "\n",
    "# Import required libraries\n",
    "import pandas as pd\n",
    "from sklearn.datasets import load_iris\n",
    "\n",
    "# Load the Iris dataset\n",
    "iris = load_iris()\n",
    "\n",
    "# Convert to a DataFrame\n",
    "iris_df = pd.DataFrame(data=iris.data, columns=iris.feature_names)\n",
    "\n",
    "# Add target and species columns\n",
    "iris_df['target'] = iris.target\n",
    "iris_df['species'] = iris_df['target'].map(dict(enumerate(iris.target_names)))\n",
    "\n",
    "# Add new column: petal length to petal width ratio\n",
    "iris_df['petal_length_to_width_ratio'] = iris_df['petal length (cm)'] / iris_df['petal width (cm)']\n",
    "\n",
    "# Display the first 5 rows\n",
    "print(\"Iris dataset with new column:\")\n",
    "print(iris_df.head())\n"
   ]
  }
 ],
 "metadata": {
  "kernelspec": {
   "display_name": "Python 3",
   "language": "python",
   "name": "python3"
  },
  "language_info": {
   "codemirror_mode": {
    "name": "ipython",
    "version": 3
   },
   "file_extension": ".py",
   "mimetype": "text/x-python",
   "name": "python",
   "nbconvert_exporter": "python",
   "pygments_lexer": "ipython3",
   "version": "3.10.12"
  }
 },
 "nbformat": 4,
 "nbformat_minor": 2
}
