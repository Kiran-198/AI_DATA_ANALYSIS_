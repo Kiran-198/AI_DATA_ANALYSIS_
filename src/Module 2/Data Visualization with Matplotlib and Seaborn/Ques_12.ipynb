{
 "cells": [
  {
   "cell_type": "code",
   "execution_count": null,
   "metadata": {},
   "outputs": [],
   "source": [
    "# Advanced Seaborn Plot - Pairplot\n",
    "# Objective: Use Seaborn to create a pairplot to visualize pairwise relationships in a dataset.\n"
   ]
  }
 ],
 "metadata": {
  "language_info": {
   "name": "python"
  }
 },
 "nbformat": 4,
 "nbformat_minor": 2
}
