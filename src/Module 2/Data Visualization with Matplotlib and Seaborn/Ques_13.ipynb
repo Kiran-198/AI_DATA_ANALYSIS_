{
 "cells": [
  {
   "cell_type": "code",
   "execution_count": null,
   "metadata": {},
   "outputs": [],
   "source": [
    "# Customizing Plots with Seaborn - Boxplot\n",
    "# Objective: Customize a boxplot with Seaborn to show the distribution of petal lengths by\n",
    "# species.\n"
   ]
  }
 ],
 "metadata": {
  "language_info": {
   "name": "python"
  }
 },
 "nbformat": 4,
 "nbformat_minor": 2
}
